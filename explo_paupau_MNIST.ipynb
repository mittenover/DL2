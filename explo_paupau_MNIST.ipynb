{
 "cells": [
  {
   "cell_type": "code",
   "execution_count": 21,
   "metadata": {},
   "outputs": [],
   "source": [
    "import matplotlib.pyplot as plt\n",
    "import pandas as pd\n",
    "import numpy as np"
   ]
  },
  {
   "cell_type": "code",
   "execution_count": 2,
   "metadata": {},
   "outputs": [],
   "source": [
    "from principal_DNN_MNIST import DNN\n",
    "from read_save import lire_mnist"
   ]
  },
  {
   "cell_type": "code",
   "execution_count": 3,
   "metadata": {},
   "outputs": [],
   "source": [
    "X_train, X_test, y_train, y_test = lire_mnist()"
   ]
  },
  {
   "cell_type": "code",
   "execution_count": 4,
   "metadata": {},
   "outputs": [
    {
     "name": "stdout",
     "output_type": "stream",
     "text": [
      "(60000, 784)\n",
      "(10000, 784)\n",
      "(60000, 10)\n",
      "(10000, 10)\n"
     ]
    }
   ],
   "source": [
    "print(X_train.shape)\n",
    "print(X_test.shape)\n",
    "print(y_train.shape)\n",
    "print(y_test.shape)"
   ]
  },
  {
   "cell_type": "code",
   "execution_count": 13,
   "metadata": {},
   "outputs": [],
   "source": [
    "layer_sizes = [784, 200, 200, 10]\n",
    "mini_batch_size = 500\n",
    "lr = 0.1\n",
    "nb_epochs = 100"
   ]
  },
  {
   "cell_type": "code",
   "execution_count": 14,
   "metadata": {},
   "outputs": [
    {
     "name": "stdout",
     "output_type": "stream",
     "text": [
      "Entraînement DBN avec 3 RBMs\n",
      "Entraînement RBM 1 / 3\n",
      "Epoch 1/100, erreur de reconstruction: 0.05391617687523122\n",
      "Epoch 26/100, erreur de reconstruction: 0.019144731395069732\n",
      "Epoch 51/100, erreur de reconstruction: 0.015671067571266743\n",
      "Epoch 76/100, erreur de reconstruction: 0.014227415807297656\n",
      "Epoch 100/100, erreur de reconstruction: 0.013434755462904669\n",
      "Entraînement RBM 2 / 3\n",
      "Epoch 1/100, erreur de reconstruction: 0.11464181635255785\n",
      "Epoch 26/100, erreur de reconstruction: 0.024449168717713406\n",
      "Epoch 51/100, erreur de reconstruction: 0.018390745607120763\n",
      "Epoch 76/100, erreur de reconstruction: 0.016097075530055568\n",
      "Epoch 100/100, erreur de reconstruction: 0.014959981254056976\n",
      "Entraînement RBM 3 / 3\n",
      "Epoch 1/100, erreur de reconstruction: 0.12043193143779396\n",
      "Epoch 26/100, erreur de reconstruction: 0.08011588281939556\n",
      "Epoch 51/100, erreur de reconstruction: 0.07950414609906453\n",
      "Epoch 76/100, erreur de reconstruction: 0.0792088752977712\n",
      "Epoch 100/100, erreur de reconstruction: 0.07910819665199223\n"
     ]
    },
    {
     "data": {
      "text/plain": [
       "<principal_DNN_MNIST.DNN at 0x12624d0a0>"
      ]
     },
     "execution_count": 14,
     "metadata": {},
     "output_type": "execute_result"
    }
   ],
   "source": [
    "DNN_model = DNN(layer_sizes)\n",
    "DNN_model.pretrain_DNN(nb_epochs, lr, mini_batch_size, X_train, verbose = True, step=25)"
   ]
  },
  {
   "cell_type": "code",
   "execution_count": null,
   "metadata": {},
   "outputs": [
    {
     "name": "stdout",
     "output_type": "stream",
     "text": [
      "Entraînement DNN\n",
      "Epoch 1/100, loss: 8.501790480280766\n",
      "Epoch 26/100, loss: 0.2834727671739281\n",
      "Epoch 51/100, loss: 0.2014219655956493\n",
      "Epoch 76/100, loss: 0.1635034396206226\n",
      "Epoch 100/100, loss: 0.14033191957310298\n"
     ]
    },
    {
     "data": {
      "text/plain": [
       "<principal_DNN_MNIST.DNN at 0x12624d0a0>"
      ]
     },
     "execution_count": 15,
     "metadata": {},
     "output_type": "execute_result"
    }
   ],
   "source": [
    "DNN_model.retropropagation(X_train, y_train, nb_epochs, lr, mini_batch_size, verbose=True, step=25)"
   ]
  },
  {
   "cell_type": "code",
   "execution_count": 16,
   "metadata": {},
   "outputs": [
    {
     "name": "stdout",
     "output_type": "stream",
     "text": [
      "Accuracy: 0.9531\n"
     ]
    }
   ],
   "source": [
    "accuracy = DNN_model.test_DNN(X_test, y_test)"
   ]
  },
  {
   "cell_type": "markdown",
   "metadata": {},
   "source": [
    "### Analyse des hyperparamètres\n",
    "#### DBN entraîné ou non ?"
   ]
  },
  {
   "cell_type": "code",
   "execution_count": 20,
   "metadata": {},
   "outputs": [
    {
     "name": "stdout",
     "output_type": "stream",
     "text": [
      "-- Pretraining model --\n",
      "Entraînement DBN avec 3 RBMs\n",
      "Entraînement RBM 1 / 3\n",
      "Epoch 1/100, erreur de reconstruction: 0.05362639960742878\n",
      "Epoch 26/100, erreur de reconstruction: 0.01906833556988353\n",
      "Epoch 51/100, erreur de reconstruction: 0.015685510758293\n",
      "Epoch 76/100, erreur de reconstruction: 0.01427902236356423\n",
      "Epoch 100/100, erreur de reconstruction: 0.013472508697311128\n",
      "Entraînement RBM 2 / 3\n",
      "Epoch 1/100, erreur de reconstruction: 0.11498281794273847\n",
      "Epoch 26/100, erreur de reconstruction: 0.02452153257959964\n",
      "Epoch 51/100, erreur de reconstruction: 0.018664847890791075\n",
      "Epoch 76/100, erreur de reconstruction: 0.016360784728669933\n",
      "Epoch 100/100, erreur de reconstruction: 0.015212712345504016\n",
      "Entraînement RBM 3 / 3\n",
      "Epoch 1/100, erreur de reconstruction: 0.1201335960394274\n",
      "Epoch 26/100, erreur de reconstruction: 0.08076010254746693\n",
      "Epoch 51/100, erreur de reconstruction: 0.07950854921787079\n",
      "Epoch 76/100, erreur de reconstruction: 0.07873967963651063\n",
      "Epoch 100/100, erreur de reconstruction: 0.0782503726921158\n",
      "Entraînement DNN\n",
      "Epoch 1/100, loss: 10.271653623512567\n",
      "Epoch 26/100, loss: 0.29739182633049294\n",
      "Epoch 51/100, loss: 0.20606543026227894\n",
      "Epoch 76/100, loss: 0.16505848027423226\n",
      "Epoch 100/100, loss: 0.14089003828362517\n",
      "-- No pretraining model --\n",
      "Entraînement DNN\n",
      "Epoch 1/100, loss: 2.303178054074093\n",
      "Epoch 26/100, loss: 0.8869358084191247\n",
      "Epoch 51/100, loss: 0.4614980526619974\n",
      "Epoch 76/100, loss: 0.3043820084604671\n",
      "Epoch 100/100, loss: 0.2274894760255535\n",
      "Accuracy: 0.9603833333333334\n",
      "Accuracy: 0.9539\n",
      "Accuracy: 0.9355833333333333\n",
      "Accuracy: 0.9307\n"
     ]
    }
   ],
   "source": [
    "print(\"-- Pretraining model --\")\n",
    "DNN_pretraining = DNN(layer_sizes)\n",
    "DNN_pretraining.pretrain_DNN(nb_epochs, lr, mini_batch_size, X_train, verbose = True, step=25)\n",
    "DNN_pretraining.retropropagation(X_train, y_train, nb_epochs, lr, mini_batch_size, verbose=True, step=25)\n",
    "\n",
    "print(\"-- No pretraining model --\")\n",
    "DNN_NO_pretraining = DNN(layer_sizes)\n",
    "DNN_NO_pretraining.retropropagation(X_train, y_train, nb_epochs, lr, mini_batch_size, verbose=True, step=25)\n",
    "\n",
    "error_rate_pretraining_train = DNN_pretraining.test_DNN(X_train, y_train)\n",
    "error_rate_pretraining_test = DNN_pretraining.test_DNN(X_test, y_test)\n",
    "\n",
    "error_rate_no_pretraining_train = DNN_NO_pretraining.test_DNN(X_train, y_train)\n",
    "error_rate_no_pretraining_test = DNN_NO_pretraining.test_DNN(X_test, y_test)"
   ]
  },
  {
   "cell_type": "code",
   "execution_count": 23,
   "metadata": {},
   "outputs": [
    {
     "name": "stdout",
     "output_type": "stream",
     "text": [
      "Pretraining model:\n",
      " Taux d'erreur pour training set: 0.96\n",
      " Taux d'erreur pour test set: 0.95\n",
      "No pretraining model:\n",
      " Taux d'erreur pour training set: 0.94\n",
      " Taux d'erreur pour test set: 0.93\n"
     ]
    }
   ],
   "source": [
    "print(\"Pretraining model:\")\n",
    "print(f\" Taux d'erreur pour training set: {error_rate_pretraining_train:.2f}\")\n",
    "print(f\" Taux d'erreur pour test set: {error_rate_pretraining_test:.2f}\")\n",
    "\n",
    "print(\"No pretraining model:\")\n",
    "print(f\" Taux d'erreur pour training set: {error_rate_no_pretraining_train:.2f}\")\n",
    "print(f\" Taux d'erreur pour test set: {error_rate_no_pretraining_test:.2f}\")"
   ]
  },
  {
   "cell_type": "markdown",
   "metadata": {},
   "source": [
    "-> No pretraining model est meilleur au final qu'un model pretrained"
   ]
  },
  {
   "cell_type": "markdown",
   "metadata": {},
   "source": [
    "#### Nombre de layers : len(layer_sizes)"
   ]
  },
  {
   "cell_type": "code",
   "execution_count": null,
   "metadata": {},
   "outputs": [
    {
     "name": "stdout",
     "output_type": "stream",
     "text": [
      "Test du modèle avec les couches [784, 10]\n",
      "-- Pretraining model --\n",
      "Entraînement DBN avec 1 RBMs\n",
      "Entraînement RBM 1 / 1\n",
      "Epoch 1/100, erreur de reconstruction: 0.08420677205335637\n",
      "Epoch 26/100, erreur de reconstruction: 0.06496567413134928\n",
      "Epoch 51/100, erreur de reconstruction: 0.06511462939723227\n",
      "Epoch 76/100, erreur de reconstruction: 0.06592777649516804\n",
      "Epoch 100/100, erreur de reconstruction: 0.06620424304874487\n",
      "Entraînement DNN\n",
      "Epoch 1/100, loss: 71.096807691768\n",
      "Epoch 26/100, loss: 1.3752803717397697\n",
      "Epoch 51/100, loss: 0.8379761453112997\n",
      "Epoch 76/100, loss: 0.6350880793144604\n",
      "Epoch 100/100, loss: 0.5272681136846691\n",
      "Accuracy: 0.8956\n",
      "-- No pretraining model --\n",
      "Entraînement DNN\n",
      "Epoch 1/100, loss: 0.8809353284668231\n",
      "Epoch 26/100, loss: 0.3062165314140898\n",
      "Epoch 51/100, loss: 0.2866774760442039\n",
      "Epoch 76/100, loss: 0.277322550790576\n",
      "Epoch 100/100, loss: 0.27165613276021194\n",
      "Accuracy: 0.9175\n",
      "Test du modèle avec les couches [784, 200, 10]\n",
      "-- Pretraining model --\n",
      "Entraînement DBN avec 2 RBMs\n",
      "Entraînement RBM 1 / 2\n",
      "Epoch 1/100, erreur de reconstruction: 0.05372578428154262\n",
      "Epoch 26/100, erreur de reconstruction: 0.019230849489898044\n",
      "Epoch 51/100, erreur de reconstruction: 0.01572183824147409\n",
      "Epoch 76/100, erreur de reconstruction: 0.014223467490116645\n",
      "Epoch 100/100, erreur de reconstruction: 0.013421727456932249\n",
      "Entraînement RBM 2 / 2\n",
      "Epoch 1/100, erreur de reconstruction: 0.16274623744135058\n",
      "Epoch 26/100, erreur de reconstruction: 0.11858324205437978\n",
      "Epoch 51/100, erreur de reconstruction: 0.11819410171682693\n",
      "Epoch 76/100, erreur de reconstruction: 0.11828980471252515\n",
      "Epoch 100/100, erreur de reconstruction: 0.11811800189223759\n",
      "Entraînement DNN\n",
      "Epoch 1/100, loss: 20.571272434824056\n",
      "Epoch 26/100, loss: 0.3331516460645086\n",
      "Epoch 51/100, loss: 0.24571445705789322\n",
      "Epoch 76/100, loss: 0.20453082227445105\n",
      "Epoch 100/100, loss: 0.1791140872516905\n",
      "Accuracy: 0.9409\n",
      "-- No pretraining model --\n",
      "Entraînement DNN\n",
      "Epoch 1/100, loss: 2.2735906957683008\n",
      "Epoch 26/100, loss: 0.3087443634177003\n",
      "Epoch 51/100, loss: 0.25019315091118133\n",
      "Epoch 76/100, loss: 0.20836186823642927\n",
      "Epoch 100/100, loss: 0.17811992464015639\n",
      "Accuracy: 0.9439\n",
      "Test du modèle avec les couches [784, 200, 200, 10]\n",
      "-- Pretraining model --\n",
      "Entraînement DBN avec 3 RBMs\n",
      "Entraînement RBM 1 / 3\n",
      "Epoch 1/100, erreur de reconstruction: 0.053621843673143404\n",
      "Epoch 26/100, erreur de reconstruction: 0.019248895836169636\n",
      "Epoch 51/100, erreur de reconstruction: 0.015810913593402445\n",
      "Epoch 76/100, erreur de reconstruction: 0.014329857310484513\n",
      "Epoch 100/100, erreur de reconstruction: 0.013492203738100688\n",
      "Entraînement RBM 2 / 3\n",
      "Epoch 1/100, erreur de reconstruction: 0.11572256979430377\n",
      "Epoch 26/100, erreur de reconstruction: 0.024759224497389782\n",
      "Epoch 51/100, erreur de reconstruction: 0.018730662215455857\n",
      "Epoch 76/100, erreur de reconstruction: 0.016457394384928863\n",
      "Epoch 100/100, erreur de reconstruction: 0.015293909250374136\n",
      "Entraînement RBM 3 / 3\n",
      "Epoch 1/100, erreur de reconstruction: 0.1189291875645057\n",
      "Epoch 26/100, erreur de reconstruction: 0.07612307413060339\n",
      "Epoch 51/100, erreur de reconstruction: 0.07528459425268863\n",
      "Epoch 76/100, erreur de reconstruction: 0.07480601333969426\n",
      "Epoch 100/100, erreur de reconstruction: 0.07394559714414367\n",
      "Entraînement DNN\n",
      "Epoch 1/100, loss: 10.30778099306372\n",
      "Epoch 26/100, loss: 0.2796478740749883\n",
      "Epoch 51/100, loss: 0.20117015696166846\n",
      "Epoch 76/100, loss: 0.16458205953333627\n",
      "Epoch 100/100, loss: 0.14206963949476306\n",
      "Accuracy: 0.9533\n",
      "-- No pretraining model --\n",
      "Entraînement DNN\n",
      "Epoch 1/100, loss: 2.3031915016979996\n",
      "Epoch 26/100, loss: 1.0298791756209178\n",
      "Epoch 51/100, loss: 0.45922486057672807\n",
      "Epoch 76/100, loss: 0.2990694035491644\n",
      "Epoch 100/100, loss: 0.22733377436896493\n",
      "Accuracy: 0.9301\n",
      "Test du modèle avec les couches [784, 200, 200, 200, 10]\n",
      "-- Pretraining model --\n",
      "Entraînement DBN avec 4 RBMs\n",
      "Entraînement RBM 1 / 4\n",
      "Epoch 1/100, erreur de reconstruction: 0.053631527206383464\n",
      "Epoch 26/100, erreur de reconstruction: 0.019147844700827758\n",
      "Epoch 51/100, erreur de reconstruction: 0.01572400831865251\n",
      "Epoch 76/100, erreur de reconstruction: 0.01424614763523449\n",
      "Epoch 100/100, erreur de reconstruction: 0.013427871604599375\n",
      "Entraînement RBM 2 / 4\n",
      "Epoch 1/100, erreur de reconstruction: 0.11613427096542328\n",
      "Epoch 26/100, erreur de reconstruction: 0.024338952154566166\n",
      "Epoch 51/100, erreur de reconstruction: 0.01855243477007452\n",
      "Epoch 76/100, erreur de reconstruction: 0.016409780336699986\n",
      "Epoch 100/100, erreur de reconstruction: 0.015267038279265822\n",
      "Entraînement RBM 3 / 4\n",
      "Epoch 1/100, erreur de reconstruction: 0.07796441133570695\n",
      "Epoch 26/100, erreur de reconstruction: 0.012411109725134178\n",
      "Epoch 51/100, erreur de reconstruction: 0.009726686631677061\n",
      "Epoch 76/100, erreur de reconstruction: 0.008763655748613666\n",
      "Epoch 100/100, erreur de reconstruction: 0.00833824683006845\n",
      "Entraînement RBM 4 / 4\n",
      "Epoch 1/100, erreur de reconstruction: 0.10524220192178652\n",
      "Epoch 26/100, erreur de reconstruction: 0.060060273777839394\n"
     ]
    }
   ],
   "source": [
    "test_layer_sizes = [[784,10], [784, 200, 10], [784, 200, 200, 10], [784, 200, 200, 200, 10], [784, 200, 200, 200, 200, 10]]\n",
    "error_rate_no_pretraining = []\n",
    "error_rate_pretraining = []\n",
    "for layer in test_layer_sizes:\n",
    "    print(f\"Test du modèle avec les couches {layer}\")\n",
    "    print(\"-- Pretraining model --\")\n",
    "    DNN_pretraining = DNN(layer)\n",
    "    DNN_pretraining.pretrain_DNN(nb_epochs, lr, mini_batch_size, X_train, verbose = True, step=25)\n",
    "    DNN_pretraining.retropropagation(X_train, y_train, nb_epochs, lr, mini_batch_size, verbose=True, step=25)\n",
    "    error_rate_pretraining.append(DNN_pretraining.test_DNN(X_test, y_test))\n",
    "\n",
    "    print(\"-- No pretraining model --\")\n",
    "    DNN_NO_pretraining = DNN(layer)\n",
    "    DNN_NO_pretraining.retropropagation(X_train, y_train, nb_epochs, lr, mini_batch_size, verbose=True, step=25)\n",
    "    error_rate_no_pretraining.append(DNN_NO_pretraining.test_DNN(X_test, y_test))\n",
    "\n",
    "plt.figure(figsize=(6, 4))\n",
    "plt.plot([len(layer) for layer in test_layer_sizes], error_rate_pretraining, label=\"Pretraining\")\n",
    "plt.plot([len(layer) for layer in test_layer_sizes], error_rate_no_pretraining, label=\"No pretraining\")\n",
    "plt.xlabel(\"Nombre de couches\")\n",
    "plt.ylabel(\"Taux d'erreur sur le test set en %\")\n",
    "plt.title(\"Taux d'erreur en fonction du nombre de couches\")\n",
    "plt.legend()\n",
    "plt.show()"
   ]
  },
  {
   "cell_type": "markdown",
   "metadata": {},
   "source": [
    "#### Nombre de Neurones par layers : layer_sizes"
   ]
  },
  {
   "cell_type": "code",
   "execution_count": null,
   "metadata": {},
   "outputs": [],
   "source": [
    "test_number_neurons = [[784, 50, 50, 10], [784, 100, 100, 10], [784, 200, 200, 10], [784, 300, 300, 10], [784, 500, 500, 10]]\n",
    "error_rate_no_pretraining = []\n",
    "error_rate_pretraining = []\n",
    "for layer in test_number_neurons:\n",
    "    print(f\"Test du modèle avec les couches {layer}\")\n",
    "    print(\"-- Pretraining model --\")\n",
    "    DNN_pretraining = DNN(layer)\n",
    "    DNN_pretraining.pretrain_DNN(nb_epochs, lr, mini_batch_size, X_train, verbose = True, step=25)\n",
    "    DNN_pretraining.retropropagation(X_train, y_train, nb_epochs, lr, mini_batch_size, verbose=True, step=25)\n",
    "    error_rate_pretraining.append(DNN_pretraining.test_DNN(X_test, y_test))\n",
    "\n",
    "    print(\"-- No pretraining model --\")\n",
    "    DNN_NO_pretraining = DNN(layer)\n",
    "    DNN_NO_pretraining.retropropagation(X_train, y_train, nb_epochs, lr, mini_batch_size, verbose=True, step=25)\n",
    "    error_rate_no_pretraining.append(DNN_NO_pretraining.test_DNN(X_test, y_test))\n",
    "\n",
    "plt.figure(figsize=(6, 4))\n",
    "plt.plot([50, 100, 200, 300, 500], error_rate_pretraining, label=\"Pretraining\")\n",
    "plt.plot([50, 100, 200, 300, 500], error_rate_no_pretraining, label=\"No pretraining\")\n",
    "plt.xlabel(\"Nombre de neurones par couche cachée\")\n",
    "plt.ylabel(\"Taux d'erreur sur le test set en %\")\n",
    "plt.title(\"Taux d'erreur en fonction du nombre de neurones par couche cachée\")\n",
    "plt.legend()\n",
    "plt.show()"
   ]
  },
  {
   "cell_type": "code",
   "execution_count": null,
   "metadata": {},
   "outputs": [],
   "source": [
    "## Essayer de mélanger les données avant de les donner au modèle\n",
    "# from sklearn.utils import shuffle\n",
    "# X_train_shuffle, y_train_shuffle = shuffle(X_train, y_train)"
   ]
  },
  {
   "cell_type": "markdown",
   "metadata": {},
   "source": [
    "### Conclusion"
   ]
  },
  {
   "cell_type": "markdown",
   "metadata": {},
   "source": [
    "#### Tuning des hyperparamètres -> sélection finale"
   ]
  },
  {
   "cell_type": "code",
   "execution_count": null,
   "metadata": {},
   "outputs": [],
   "source": [
    "layer_sizes = [784, 500, 500, 10]\n",
    "mini_batch_size = 32\n",
    "lr = 0.1\n",
    "nb_epochs = 100\n",
    "\n",
    "DNN_best = DNN(layer_sizes)\n",
    "DNN_best.retropropagation(X_train, y_train, nb_epochs, lr, mini_batch_size, verbose=True, step=25)\n",
    "error_rate = DNN_best.test_DNN(X_test, y_test)"
   ]
  },
  {
   "cell_type": "code",
   "execution_count": null,
   "metadata": {},
   "outputs": [],
   "source": [
    "error_rate_best_train = DNN_best.test_DNN(X_train, y_train)\n",
    "error_rate_best_test = DNN_best.test_DNN(X_test, y_test)\n",
    "\n",
    "print(\"Best model results:\")\n",
    "print(f\" Error rate for training set: {error_rate_best_train:.2f}\")\n",
    "print(f\" Error rate for test set: {error_rate_best_test:.2f}\")"
   ]
  },
  {
   "cell_type": "markdown",
   "metadata": {},
   "source": [
    "#### Prediction sur 10 digits"
   ]
  },
  {
   "cell_type": "code",
   "execution_count": null,
   "metadata": {},
   "outputs": [],
   "source": [
    "X = X_test[0:10]\n",
    "for _, rbm in enumerate(DNN_best.RBM_layers[:-1]):\n",
    "    X = rbm.entree_sortie_RBM(X)\n",
    "predictions = np.argmax(DNN_best.calcul_softmax(X, DNN_best.RBM_layers[-1]), axis=1)"
   ]
  },
  {
   "cell_type": "code",
   "execution_count": null,
   "metadata": {},
   "outputs": [],
   "source": [
    "plt.subplots(2, 5, figsize=(10, 5))\n",
    "for i in range(10):\n",
    "    plt.subplot(2, 5, i+1)\n",
    "    plt.imshow(X_test[i].reshape(28, 28), cmap='gray')\n",
    "    plt.title(f\"Prediction: {predictions[i]}\\n True label: {np.argmax(y_test[i])}\")\n",
    "    plt.axis('off')"
   ]
  }
 ],
 "metadata": {
  "kernelspec": {
   "display_name": "datascience_2025",
   "language": "python",
   "name": "python3"
  },
  "language_info": {
   "codemirror_mode": {
    "name": "ipython",
    "version": 3
   },
   "file_extension": ".py",
   "mimetype": "text/x-python",
   "name": "python",
   "nbconvert_exporter": "python",
   "pygments_lexer": "ipython3",
   "version": "3.9.21"
  }
 },
 "nbformat": 4,
 "nbformat_minor": 2
}
