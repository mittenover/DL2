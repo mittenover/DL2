{
 "cells": [
  {
   "cell_type": "code",
   "execution_count": 21,
   "metadata": {},
   "outputs": [],
   "source": [
    "import matplotlib.pyplot as plt\n",
    "import pandas as pd\n",
    "import numpy as np"
   ]
  },
  {
   "cell_type": "code",
   "execution_count": 2,
   "metadata": {},
   "outputs": [],
   "source": [
    "from principal_DNN_MNIST import DNN\n",
    "from read_save import lire_mnist"
   ]
  },
  {
   "cell_type": "code",
   "execution_count": 3,
   "metadata": {},
   "outputs": [],
   "source": [
    "X_train, X_test, y_train, y_test = lire_mnist()"
   ]
  },
  {
   "cell_type": "code",
   "execution_count": 4,
   "metadata": {},
   "outputs": [
    {
     "name": "stdout",
     "output_type": "stream",
     "text": [
      "(60000, 784)\n",
      "(10000, 784)\n",
      "(60000, 10)\n",
      "(10000, 10)\n"
     ]
    }
   ],
   "source": [
    "print(X_train.shape)\n",
    "print(X_test.shape)\n",
    "print(y_train.shape)\n",
    "print(y_test.shape)"
   ]
  },
  {
   "cell_type": "code",
   "execution_count": 13,
   "metadata": {},
   "outputs": [],
   "source": [
    "layer_sizes = [784, 200, 200, 10]\n",
    "mini_batch_size = 500\n",
    "lr = 0.1\n",
    "nb_epochs = 100"
   ]
  },
  {
   "cell_type": "code",
   "execution_count": 14,
   "metadata": {},
   "outputs": [
    {
     "name": "stdout",
     "output_type": "stream",
     "text": [
      "Entraînement DBN avec 3 RBMs\n",
      "Entraînement RBM 1 / 3\n",
      "Epoch 1/100, erreur de reconstruction: 0.05391617687523122\n",
      "Epoch 26/100, erreur de reconstruction: 0.019144731395069732\n",
      "Epoch 51/100, erreur de reconstruction: 0.015671067571266743\n",
      "Epoch 76/100, erreur de reconstruction: 0.014227415807297656\n",
      "Epoch 100/100, erreur de reconstruction: 0.013434755462904669\n",
      "Entraînement RBM 2 / 3\n",
      "Epoch 1/100, erreur de reconstruction: 0.11464181635255785\n",
      "Epoch 26/100, erreur de reconstruction: 0.024449168717713406\n",
      "Epoch 51/100, erreur de reconstruction: 0.018390745607120763\n",
      "Epoch 76/100, erreur de reconstruction: 0.016097075530055568\n",
      "Epoch 100/100, erreur de reconstruction: 0.014959981254056976\n",
      "Entraînement RBM 3 / 3\n",
      "Epoch 1/100, erreur de reconstruction: 0.12043193143779396\n",
      "Epoch 26/100, erreur de reconstruction: 0.08011588281939556\n",
      "Epoch 51/100, erreur de reconstruction: 0.07950414609906453\n",
      "Epoch 76/100, erreur de reconstruction: 0.0792088752977712\n",
      "Epoch 100/100, erreur de reconstruction: 0.07910819665199223\n"
     ]
    },
    {
     "data": {
      "text/plain": [
       "<principal_DNN_MNIST.DNN at 0x12624d0a0>"
      ]
     },
     "execution_count": 14,
     "metadata": {},
     "output_type": "execute_result"
    }
   ],
   "source": [
    "DNN_model = DNN(layer_sizes)\n",
    "DNN_model.pretrain_DNN(nb_epochs, lr, mini_batch_size, X_train, verbose = True, step=25)"
   ]
  },
  {
   "cell_type": "code",
   "execution_count": 15,
   "metadata": {},
   "outputs": [
    {
     "name": "stdout",
     "output_type": "stream",
     "text": [
      "Entraînement DNN\n",
      "Epoch 1/100, loss: 8.501790480280766\n",
      "Epoch 26/100, loss: 0.2834727671739281\n",
      "Epoch 51/100, loss: 0.2014219655956493\n",
      "Epoch 76/100, loss: 0.1635034396206226\n",
      "Epoch 100/100, loss: 0.14033191957310298\n"
     ]
    },
    {
     "data": {
      "text/plain": [
       "<principal_DNN_MNIST.DNN at 0x12624d0a0>"
      ]
     },
     "execution_count": 15,
     "metadata": {},
     "output_type": "execute_result"
    }
   ],
   "source": [
    "DNN_model.retropropagation(X_train, y_train, nb_epochs, lr, mini_batch_size, verbose=True, step=25)"
   ]
  },
  {
   "cell_type": "code",
   "execution_count": 16,
   "metadata": {},
   "outputs": [
    {
     "name": "stdout",
     "output_type": "stream",
     "text": [
      "Accuracy: 0.9531\n"
     ]
    }
   ],
   "source": [
    "accuracy = DNN_model.test_DNN(X_test, y_test)"
   ]
  },
  {
   "cell_type": "markdown",
   "metadata": {},
   "source": [
    "### Analyse des hyperparamètres\n",
    "#### DBN entraîné ou non ?"
   ]
  },
  {
   "cell_type": "code",
   "execution_count": 20,
   "metadata": {},
   "outputs": [
    {
     "name": "stdout",
     "output_type": "stream",
     "text": [
      "-- Pretraining model --\n",
      "Entraînement DBN avec 3 RBMs\n",
      "Entraînement RBM 1 / 3\n",
      "Epoch 1/100, erreur de reconstruction: 0.05362639960742878\n",
      "Epoch 26/100, erreur de reconstruction: 0.01906833556988353\n",
      "Epoch 51/100, erreur de reconstruction: 0.015685510758293\n",
      "Epoch 76/100, erreur de reconstruction: 0.01427902236356423\n",
      "Epoch 100/100, erreur de reconstruction: 0.013472508697311128\n",
      "Entraînement RBM 2 / 3\n",
      "Epoch 1/100, erreur de reconstruction: 0.11498281794273847\n",
      "Epoch 26/100, erreur de reconstruction: 0.02452153257959964\n",
      "Epoch 51/100, erreur de reconstruction: 0.018664847890791075\n",
      "Epoch 76/100, erreur de reconstruction: 0.016360784728669933\n",
      "Epoch 100/100, erreur de reconstruction: 0.015212712345504016\n",
      "Entraînement RBM 3 / 3\n",
      "Epoch 1/100, erreur de reconstruction: 0.1201335960394274\n",
      "Epoch 26/100, erreur de reconstruction: 0.08076010254746693\n",
      "Epoch 51/100, erreur de reconstruction: 0.07950854921787079\n",
      "Epoch 76/100, erreur de reconstruction: 0.07873967963651063\n",
      "Epoch 100/100, erreur de reconstruction: 0.0782503726921158\n",
      "Entraînement DNN\n",
      "Epoch 1/100, loss: 10.271653623512567\n",
      "Epoch 26/100, loss: 0.29739182633049294\n",
      "Epoch 51/100, loss: 0.20606543026227894\n",
      "Epoch 76/100, loss: 0.16505848027423226\n",
      "Epoch 100/100, loss: 0.14089003828362517\n",
      "-- No pretraining model --\n",
      "Entraînement DNN\n",
      "Epoch 1/100, loss: 2.303178054074093\n",
      "Epoch 26/100, loss: 0.8869358084191247\n",
      "Epoch 51/100, loss: 0.4614980526619974\n",
      "Epoch 76/100, loss: 0.3043820084604671\n",
      "Epoch 100/100, loss: 0.2274894760255535\n",
      "Accuracy: 0.9603833333333334\n",
      "Accuracy: 0.9539\n",
      "Accuracy: 0.9355833333333333\n",
      "Accuracy: 0.9307\n"
     ]
    }
   ],
   "source": [
    "print(\"-- Pretraining model --\")\n",
    "DNN_pretraining = DNN(layer_sizes)\n",
    "DNN_pretraining.pretrain_DNN(nb_epochs, lr, mini_batch_size, X_train, verbose = True, step=25)\n",
    "DNN_pretraining.retropropagation(X_train, y_train, nb_epochs, lr, mini_batch_size, verbose=True, step=25)\n",
    "\n",
    "print(\"-- No pretraining model --\")\n",
    "DNN_NO_pretraining = DNN(layer_sizes)\n",
    "DNN_NO_pretraining.retropropagation(X_train, y_train, nb_epochs, lr, mini_batch_size, verbose=True, step=25)\n",
    "\n",
    "error_rate_pretraining_train = DNN_pretraining.test_DNN(X_train, y_train)\n",
    "error_rate_pretraining_test = DNN_pretraining.test_DNN(X_test, y_test)\n",
    "\n",
    "error_rate_no_pretraining_train = DNN_NO_pretraining.test_DNN(X_train, y_train)\n",
    "error_rate_no_pretraining_test = DNN_NO_pretraining.test_DNN(X_test, y_test)"
   ]
  },
  {
   "cell_type": "code",
   "execution_count": 23,
   "metadata": {},
   "outputs": [
    {
     "name": "stdout",
     "output_type": "stream",
     "text": [
      "Pretraining model:\n",
      " Taux d'erreur pour training set: 0.96\n",
      " Taux d'erreur pour test set: 0.95\n",
      "No pretraining model:\n",
      " Taux d'erreur pour training set: 0.94\n",
      " Taux d'erreur pour test set: 0.93\n"
     ]
    }
   ],
   "source": [
    "print(\"Pretraining model:\")\n",
    "print(f\" Taux d'erreur pour training set: {error_rate_pretraining_train:.2f}\")\n",
    "print(f\" Taux d'erreur pour test set: {error_rate_pretraining_test:.2f}\")\n",
    "\n",
    "print(\"No pretraining model:\")\n",
    "print(f\" Taux d'erreur pour training set: {error_rate_no_pretraining_train:.2f}\")\n",
    "print(f\" Taux d'erreur pour test set: {error_rate_no_pretraining_test:.2f}\")"
   ]
  },
  {
   "cell_type": "markdown",
   "metadata": {},
   "source": [
    "-> No pretraining model est meilleur au final qu'un model pretrained"
   ]
  },
  {
   "cell_type": "markdown",
   "metadata": {},
   "source": [
    "#### Nombre de layers : len(layer_sizes)"
   ]
  },
  {
   "cell_type": "code",
   "execution_count": 24,
   "metadata": {},
   "outputs": [
    {
     "name": "stdout",
     "output_type": "stream",
     "text": [
      "Test du modèle avec les couches [784, 10]\n",
      "-- Pretraining model --\n",
      "Entraînement DBN avec 1 RBMs\n",
      "Entraînement RBM 1 / 1\n",
      "Epoch 1/100, erreur de reconstruction: 0.08420677205335637\n",
      "Epoch 26/100, erreur de reconstruction: 0.06496567413134928\n",
      "Epoch 51/100, erreur de reconstruction: 0.06511462939723227\n",
      "Epoch 76/100, erreur de reconstruction: 0.06592777649516804\n",
      "Epoch 100/100, erreur de reconstruction: 0.06620424304874487\n",
      "Entraînement DNN\n",
      "Epoch 1/100, loss: 71.096807691768\n",
      "Epoch 26/100, loss: 1.3752803717397697\n",
      "Epoch 51/100, loss: 0.8379761453112997\n",
      "Epoch 76/100, loss: 0.6350880793144604\n",
      "Epoch 100/100, loss: 0.5272681136846691\n",
      "Accuracy: 0.8956\n",
      "-- No pretraining model --\n",
      "Entraînement DNN\n",
      "Epoch 1/100, loss: 0.8809353284668231\n",
      "Epoch 26/100, loss: 0.3062165314140898\n",
      "Epoch 51/100, loss: 0.2866774760442039\n",
      "Epoch 76/100, loss: 0.277322550790576\n",
      "Epoch 100/100, loss: 0.27165613276021194\n",
      "Accuracy: 0.9175\n",
      "Test du modèle avec les couches [784, 200, 10]\n",
      "-- Pretraining model --\n",
      "Entraînement DBN avec 2 RBMs\n",
      "Entraînement RBM 1 / 2\n",
      "Epoch 1/100, erreur de reconstruction: 0.05372578428154262\n",
      "Epoch 26/100, erreur de reconstruction: 0.019230849489898044\n",
      "Epoch 51/100, erreur de reconstruction: 0.01572183824147409\n",
      "Epoch 76/100, erreur de reconstruction: 0.014223467490116645\n",
      "Epoch 100/100, erreur de reconstruction: 0.013421727456932249\n",
      "Entraînement RBM 2 / 2\n",
      "Epoch 1/100, erreur de reconstruction: 0.16274623744135058\n",
      "Epoch 26/100, erreur de reconstruction: 0.11858324205437978\n",
      "Epoch 51/100, erreur de reconstruction: 0.11819410171682693\n",
      "Epoch 76/100, erreur de reconstruction: 0.11828980471252515\n",
      "Epoch 100/100, erreur de reconstruction: 0.11811800189223759\n",
      "Entraînement DNN\n",
      "Epoch 1/100, loss: 20.571272434824056\n",
      "Epoch 26/100, loss: 0.3331516460645086\n",
      "Epoch 51/100, loss: 0.24571445705789322\n",
      "Epoch 76/100, loss: 0.20453082227445105\n",
      "Epoch 100/100, loss: 0.1791140872516905\n",
      "Accuracy: 0.9409\n",
      "-- No pretraining model --\n",
      "Entraînement DNN\n",
      "Epoch 1/100, loss: 2.2735906957683008\n",
      "Epoch 26/100, loss: 0.3087443634177003\n",
      "Epoch 51/100, loss: 0.25019315091118133\n",
      "Epoch 76/100, loss: 0.20836186823642927\n",
      "Epoch 100/100, loss: 0.17811992464015639\n",
      "Accuracy: 0.9439\n",
      "Test du modèle avec les couches [784, 200, 200, 10]\n",
      "-- Pretraining model --\n",
      "Entraînement DBN avec 3 RBMs\n",
      "Entraînement RBM 1 / 3\n",
      "Epoch 1/100, erreur de reconstruction: 0.053621843673143404\n",
      "Epoch 26/100, erreur de reconstruction: 0.019248895836169636\n",
      "Epoch 51/100, erreur de reconstruction: 0.015810913593402445\n",
      "Epoch 76/100, erreur de reconstruction: 0.014329857310484513\n",
      "Epoch 100/100, erreur de reconstruction: 0.013492203738100688\n",
      "Entraînement RBM 2 / 3\n",
      "Epoch 1/100, erreur de reconstruction: 0.11572256979430377\n",
      "Epoch 26/100, erreur de reconstruction: 0.024759224497389782\n",
      "Epoch 51/100, erreur de reconstruction: 0.018730662215455857\n",
      "Epoch 76/100, erreur de reconstruction: 0.016457394384928863\n",
      "Epoch 100/100, erreur de reconstruction: 0.015293909250374136\n",
      "Entraînement RBM 3 / 3\n",
      "Epoch 1/100, erreur de reconstruction: 0.1189291875645057\n",
      "Epoch 26/100, erreur de reconstruction: 0.07612307413060339\n",
      "Epoch 51/100, erreur de reconstruction: 0.07528459425268863\n",
      "Epoch 76/100, erreur de reconstruction: 0.07480601333969426\n",
      "Epoch 100/100, erreur de reconstruction: 0.07394559714414367\n",
      "Entraînement DNN\n",
      "Epoch 1/100, loss: 10.30778099306372\n",
      "Epoch 26/100, loss: 0.2796478740749883\n",
      "Epoch 51/100, loss: 0.20117015696166846\n",
      "Epoch 76/100, loss: 0.16458205953333627\n",
      "Epoch 100/100, loss: 0.14206963949476306\n",
      "Accuracy: 0.9533\n",
      "-- No pretraining model --\n",
      "Entraînement DNN\n",
      "Epoch 1/100, loss: 2.3031915016979996\n",
      "Epoch 26/100, loss: 1.0298791756209178\n",
      "Epoch 51/100, loss: 0.45922486057672807\n",
      "Epoch 76/100, loss: 0.2990694035491644\n",
      "Epoch 100/100, loss: 0.22733377436896493\n",
      "Accuracy: 0.9301\n",
      "Test du modèle avec les couches [784, 200, 200, 200, 10]\n",
      "-- Pretraining model --\n",
      "Entraînement DBN avec 4 RBMs\n",
      "Entraînement RBM 1 / 4\n",
      "Epoch 1/100, erreur de reconstruction: 0.053631527206383464\n",
      "Epoch 26/100, erreur de reconstruction: 0.019147844700827758\n",
      "Epoch 51/100, erreur de reconstruction: 0.01572400831865251\n",
      "Epoch 76/100, erreur de reconstruction: 0.01424614763523449\n",
      "Epoch 100/100, erreur de reconstruction: 0.013427871604599375\n",
      "Entraînement RBM 2 / 4\n",
      "Epoch 1/100, erreur de reconstruction: 0.11613427096542328\n",
      "Epoch 26/100, erreur de reconstruction: 0.024338952154566166\n",
      "Epoch 51/100, erreur de reconstruction: 0.01855243477007452\n",
      "Epoch 76/100, erreur de reconstruction: 0.016409780336699986\n",
      "Epoch 100/100, erreur de reconstruction: 0.015267038279265822\n",
      "Entraînement RBM 3 / 4\n",
      "Epoch 1/100, erreur de reconstruction: 0.07796441133570695\n",
      "Epoch 26/100, erreur de reconstruction: 0.012411109725134178\n",
      "Epoch 51/100, erreur de reconstruction: 0.009726686631677061\n",
      "Epoch 76/100, erreur de reconstruction: 0.008763655748613666\n",
      "Epoch 100/100, erreur de reconstruction: 0.00833824683006845\n",
      "Entraînement RBM 4 / 4\n",
      "Epoch 1/100, erreur de reconstruction: 0.10524220192178652\n",
      "Epoch 26/100, erreur de reconstruction: 0.060060273777839394\n",
      "Epoch 51/100, erreur de reconstruction: 0.05902215742307419\n",
      "Epoch 76/100, erreur de reconstruction: 0.058759371108732944\n",
      "Epoch 100/100, erreur de reconstruction: 0.05869516308674373\n",
      "Entraînement DNN\n",
      "Epoch 1/100, loss: 6.303101613899617\n",
      "Epoch 26/100, loss: 0.21898277307026082\n",
      "Epoch 51/100, loss: 0.15534635814580713\n",
      "Epoch 76/100, loss: 0.1246548180982193\n",
      "Epoch 100/100, loss: 0.10588886393921217\n",
      "Accuracy: 0.9638\n",
      "-- No pretraining model --\n",
      "Entraînement DNN\n",
      "Epoch 1/100, loss: 2.303306245988684\n",
      "Epoch 26/100, loss: 2.303699831860142\n",
      "Epoch 51/100, loss: 2.3043568315162397\n",
      "Epoch 76/100, loss: 2.305371861713678\n",
      "Epoch 100/100, loss: 2.307061400141841\n",
      "Accuracy: 0.1028\n",
      "Test du modèle avec les couches [784, 200, 200, 200, 200, 10]\n",
      "-- Pretraining model --\n",
      "Entraînement DBN avec 5 RBMs\n",
      "Entraînement RBM 1 / 5\n",
      "Epoch 1/100, erreur de reconstruction: 0.053668611978919194\n",
      "Epoch 26/100, erreur de reconstruction: 0.019115457253459176\n",
      "Epoch 51/100, erreur de reconstruction: 0.015670102470655138\n",
      "Epoch 76/100, erreur de reconstruction: 0.014217493735435143\n",
      "Epoch 100/100, erreur de reconstruction: 0.013433734213448447\n",
      "Entraînement RBM 2 / 5\n",
      "Epoch 1/100, erreur de reconstruction: 0.11635525255679456\n",
      "Epoch 26/100, erreur de reconstruction: 0.024775530480218435\n",
      "Epoch 51/100, erreur de reconstruction: 0.019146692457807854\n",
      "Epoch 76/100, erreur de reconstruction: 0.01697238073523889\n",
      "Epoch 100/100, erreur de reconstruction: 0.015926865957305778\n",
      "Entraînement RBM 3 / 5\n",
      "Epoch 1/100, erreur de reconstruction: 0.0780550420198515\n",
      "Epoch 26/100, erreur de reconstruction: 0.012275546480634973\n",
      "Epoch 51/100, erreur de reconstruction: 0.009453651974997984\n",
      "Epoch 76/100, erreur de reconstruction: 0.008532906273373024\n",
      "Epoch 100/100, erreur de reconstruction: 0.008125409461963355\n",
      "Entraînement RBM 4 / 5\n",
      "Epoch 1/100, erreur de reconstruction: 0.06387935243129572\n",
      "Epoch 26/100, erreur de reconstruction: 0.0071918507899480745\n",
      "Epoch 51/100, erreur de reconstruction: 0.005841456289101314\n",
      "Epoch 76/100, erreur de reconstruction: 0.00533074944428785\n",
      "Epoch 100/100, erreur de reconstruction: 0.005217935062204316\n",
      "Entraînement RBM 5 / 5\n",
      "Epoch 1/100, erreur de reconstruction: 0.0936167073701636\n",
      "Epoch 26/100, erreur de reconstruction: 0.07691301168913138\n",
      "Epoch 51/100, erreur de reconstruction: 0.06831570135613958\n",
      "Epoch 76/100, erreur de reconstruction: 0.06745916639539735\n",
      "Epoch 100/100, erreur de reconstruction: 0.06741950169764874\n",
      "Entraînement DNN\n",
      "Epoch 1/100, loss: 3.587793726592657\n",
      "Epoch 26/100, loss: 0.20566463957761824\n",
      "Epoch 51/100, loss: 0.14690882253744336\n",
      "Epoch 76/100, loss: 0.11890032033145709\n",
      "Epoch 100/100, loss: 0.10157841607367853\n",
      "Accuracy: 0.9683\n",
      "-- No pretraining model --\n",
      "Entraînement DNN\n",
      "Epoch 1/100, loss: 2.303317095924792\n",
      "Epoch 26/100, loss: 2.3036870648617893\n",
      "Epoch 51/100, loss: 2.3043427092147915\n",
      "Epoch 76/100, loss: 2.3053530349509903\n",
      "Epoch 100/100, loss: 2.307030842927728\n",
      "Accuracy: 0.1028\n"
     ]
    },
    {
     "data": {
      "image/png": "[encoded data removed]",
      "text/plain": [
       "<Figure size 600x400 with 1 Axes>"
      ]
     },
     "metadata": {},
     "output_type": "display_data"
    }
   ],
   "source": [
    "test_layer_sizes = [[784,10], [784, 200, 10], [784, 200, 200, 10], [784, 200, 200, 200, 10], [784, 200, 200, 200, 200, 10]]\n",
    "error_rate_no_pretraining = []\n",
    "error_rate_pretraining = []\n",
    "for layer in test_layer_sizes:\n",
    "    print(f\"Test du modèle avec les couches {layer}\")\n",
    "    print(\"-- Pretraining model --\")\n",
    "    DNN_pretraining = DNN(layer)\n",
    "    DNN_pretraining.pretrain_DNN(nb_epochs, lr, mini_batch_size, X_train, verbose = True, step=25)\n",
    "    DNN_pretraining.retropropagation(X_train, y_train, nb_epochs, lr, mini_batch_size, verbose=True, step=25)\n",
    "    error_rate_pretraining.append(DNN_pretraining.test_DNN(X_test, y_test))\n",
    "\n",
    "    print(\"-- No pretraining model --\")\n",
    "    DNN_NO_pretraining = DNN(layer)\n",
    "    DNN_NO_pretraining.retropropagation(X_train, y_train, nb_epochs, lr, mini_batch_size, verbose=True, step=25)\n",
    "    error_rate_no_pretraining.append(DNN_NO_pretraining.test_DNN(X_test, y_test))\n",
    "\n",
    "plt.figure(figsize=(6, 4))\n",
    "plt.plot([len(layer) for layer in test_layer_sizes], error_rate_pretraining, label=\"Pretraining\")\n",
    "plt.plot([len(layer) for layer in test_layer_sizes], error_rate_no_pretraining, label=\"No pretraining\")\n",
    "plt.xlabel(\"Nombre de couches\")\n",
    "plt.ylabel(\"Taux d'erreur sur le test set en %\")\n",
    "plt.title(\"Taux d'erreur en fonction du nombre de couches\")\n",
    "plt.legend()\n",
    "plt.show()"
   ]
  },
  {
   "cell_type": "markdown",
   "metadata": {},
   "source": [
    "best pour [784, 200, 200, 200, 10] pour pretrained et [784, 200, 200, 10] pour no pretrained"
   ]
  },
  {
   "cell_type": "markdown",
   "metadata": {},
   "source": [
    "#### Nombre de Neurones par layers : layer_sizes"
   ]
  },
  {
   "cell_type": "code",
   "execution_count": 25,
   "metadata": {},
   "outputs": [
    {
     "name": "stdout",
     "output_type": "stream",
     "text": [
      "Test du modèle avec les couches [784, 50, 50, 10]\n",
      "-- Pretraining model --\n",
      "Entraînement DBN avec 3 RBMs\n",
      "Entraînement RBM 1 / 3\n",
      "Epoch 1/100, erreur de reconstruction: 0.06614970651946227\n",
      "Epoch 26/100, erreur de reconstruction: 0.036913558128419635\n",
      "Epoch 51/100, erreur de reconstruction: 0.035076105285259715\n",
      "Epoch 76/100, erreur de reconstruction: 0.034346379772797204\n",
      "Epoch 100/100, erreur de reconstruction: 0.033928537686432884\n",
      "Entraînement RBM 2 / 3\n",
      "Epoch 1/100, erreur de reconstruction: 0.18639340618561817\n",
      "Epoch 26/100, erreur de reconstruction: 0.051391617407097766\n",
      "Epoch 51/100, erreur de reconstruction: 0.03970704673384635\n",
      "Epoch 76/100, erreur de reconstruction: 0.03597562384592649\n",
      "Epoch 100/100, erreur de reconstruction: 0.03425080519080641\n",
      "Entraînement RBM 3 / 3\n",
      "Epoch 1/100, erreur de reconstruction: 0.12031349097178849\n",
      "Epoch 26/100, erreur de reconstruction: 0.04966127554380758\n",
      "Epoch 51/100, erreur de reconstruction: 0.04761424399319181\n",
      "Epoch 76/100, erreur de reconstruction: 0.045734262819351425\n",
      "Epoch 100/100, erreur de reconstruction: 0.04472809424243664\n",
      "Entraînement DNN\n",
      "Epoch 1/100, loss: 6.594101346495296\n",
      "Epoch 26/100, loss: 0.43455884657315713\n",
      "Epoch 51/100, loss: 0.33505506723453593\n",
      "Epoch 76/100, loss: 0.2903097555423776\n",
      "Epoch 100/100, loss: 0.2625553837823107\n",
      "Accuracy: 0.9215\n",
      "-- No pretraining model --\n",
      "Entraînement DNN\n",
      "Epoch 1/100, loss: 2.301666710649664\n",
      "Epoch 26/100, loss: 2.3011419659474237\n",
      "Epoch 51/100, loss: 1.2440199351048251\n",
      "Epoch 76/100, loss: 0.4495156340292556\n",
      "Epoch 100/100, loss: 0.3023842466320369\n",
      "Accuracy: 0.9146\n",
      "Test du modèle avec les couches [784, 100, 100, 10]\n",
      "-- Pretraining model --\n",
      "Entraînement DBN avec 3 RBMs\n",
      "Entraînement RBM 1 / 3\n",
      "Epoch 1/100, erreur de reconstruction: 0.058561607296009476\n",
      "Epoch 26/100, erreur de reconstruction: 0.027023160894554726\n",
      "Epoch 51/100, erreur de reconstruction: 0.023977647631169403\n",
      "Epoch 76/100, erreur de reconstruction: 0.02251866540693966\n",
      "Epoch 100/100, erreur de reconstruction: 0.021717470714842764\n",
      "Entraînement RBM 2 / 3\n",
      "Epoch 1/100, erreur de reconstruction: 0.1578117055908462\n",
      "Epoch 26/100, erreur de reconstruction: 0.03833098798419149\n",
      "Epoch 51/100, erreur de reconstruction: 0.030479770105267638\n",
      "Epoch 76/100, erreur de reconstruction: 0.027551602662764286\n",
      "Epoch 100/100, erreur de reconstruction: 0.026120404382167492\n",
      "Entraînement RBM 3 / 3\n",
      "Epoch 1/100, erreur de reconstruction: 0.12097162138656228\n",
      "Epoch 26/100, erreur de reconstruction: 0.07429508267209857\n",
      "Epoch 51/100, erreur de reconstruction: 0.0720857193333481\n",
      "Epoch 76/100, erreur de reconstruction: 0.07177874742654042\n",
      "Epoch 100/100, erreur de reconstruction: 0.07148382277211296\n",
      "Entraînement DNN\n",
      "Epoch 1/100, loss: 8.26615483361277\n",
      "Epoch 26/100, loss: 0.3517931718608694\n",
      "Epoch 51/100, loss: 0.262494409104947\n",
      "Epoch 76/100, loss: 0.22097923414037046\n",
      "Epoch 100/100, loss: 0.19555268698023257\n",
      "Accuracy: 0.9422\n",
      "-- No pretraining model --\n",
      "Entraînement DNN\n",
      "Epoch 1/100, loss: 2.30205268526355\n",
      "Epoch 26/100, loss: 1.970947246112238\n",
      "Epoch 51/100, loss: 0.5574025395284997\n",
      "Epoch 76/100, loss: 0.3460865168899356\n",
      "Epoch 100/100, loss: 0.23503643683663827\n",
      "Accuracy: 0.9314\n",
      "Test du modèle avec les couches [784, 200, 200, 10]\n",
      "-- Pretraining model --\n",
      "Entraînement DBN avec 3 RBMs\n",
      "Entraînement RBM 1 / 3\n",
      "Epoch 1/100, erreur de reconstruction: 0.05374546028900275\n",
      "Epoch 26/100, erreur de reconstruction: 0.0192044990618072\n",
      "Epoch 51/100, erreur de reconstruction: 0.015729054133365065\n",
      "Epoch 76/100, erreur de reconstruction: 0.014269391710847247\n",
      "Epoch 100/100, erreur de reconstruction: 0.013471541738327071\n",
      "Entraînement RBM 2 / 3\n",
      "Epoch 1/100, erreur de reconstruction: 0.11587196934139755\n",
      "Epoch 26/100, erreur de reconstruction: 0.024529881951165317\n",
      "Epoch 51/100, erreur de reconstruction: 0.018687648926140454\n",
      "Epoch 76/100, erreur de reconstruction: 0.016461251428198268\n",
      "Epoch 100/100, erreur de reconstruction: 0.015416735178050136\n",
      "Entraînement RBM 3 / 3\n",
      "Epoch 1/100, erreur de reconstruction: 0.11924778083050214\n",
      "Epoch 26/100, erreur de reconstruction: 0.0796166686637013\n",
      "Epoch 51/100, erreur de reconstruction: 0.07520456332671352\n",
      "Epoch 76/100, erreur de reconstruction: 0.07395640860424572\n",
      "Epoch 100/100, erreur de reconstruction: 0.07358899372752647\n",
      "Entraînement DNN\n",
      "Epoch 1/100, loss: 10.535346313294491\n",
      "Epoch 26/100, loss: 0.3294745956138361\n",
      "Epoch 51/100, loss: 0.228221745562932\n",
      "Epoch 76/100, loss: 0.18401102999567778\n",
      "Epoch 100/100, loss: 0.1574077865832509\n",
      "Accuracy: 0.9482\n",
      "-- No pretraining model --\n",
      "Entraînement DNN\n",
      "Epoch 1/100, loss: 2.3031863524320983\n",
      "Epoch 26/100, loss: 1.0650944508740563\n",
      "Epoch 51/100, loss: 0.4592609593885479\n",
      "Epoch 76/100, loss: 0.30807757573374633\n",
      "Epoch 100/100, loss: 0.23241812699464298\n",
      "Accuracy: 0.9283\n",
      "Test du modèle avec les couches [784, 300, 300, 10]\n",
      "-- Pretraining model --\n",
      "Entraînement DBN avec 3 RBMs\n",
      "Entraînement RBM 1 / 3\n",
      "Epoch 1/100, erreur de reconstruction: 0.05107159515613121\n",
      "Epoch 26/100, erreur de reconstruction: 0.015795595151950892\n",
      "Epoch 51/100, erreur de reconstruction: 0.012394829194554298\n",
      "Epoch 76/100, erreur de reconstruction: 0.010948142022837457\n",
      "Epoch 100/100, erreur de reconstruction: 0.010103105676050788\n",
      "Entraînement RBM 2 / 3\n",
      "Epoch 1/100, erreur de reconstruction: 0.09466782722273603\n",
      "Epoch 26/100, erreur de reconstruction: 0.017052448984686698\n",
      "Epoch 51/100, erreur de reconstruction: 0.012434671770845528\n",
      "Epoch 76/100, erreur de reconstruction: 0.010805709608336173\n",
      "Epoch 100/100, erreur de reconstruction: 0.010027523749402124\n",
      "Entraînement RBM 3 / 3\n",
      "Epoch 1/100, erreur de reconstruction: 0.11453464408649756\n",
      "Epoch 26/100, erreur de reconstruction: 0.075880924422308\n",
      "Epoch 51/100, erreur de reconstruction: 0.07477280860026456\n",
      "Epoch 76/100, erreur de reconstruction: 0.07439535812214242\n",
      "Epoch 100/100, erreur de reconstruction: 0.07404152378587166\n",
      "Entraînement DNN\n",
      "Epoch 1/100, loss: 10.29751225992932\n",
      "Epoch 26/100, loss: 0.25592391317284063\n",
      "Epoch 51/100, loss: 0.17937479159488445\n",
      "Epoch 76/100, loss: 0.1429052240773699\n",
      "Epoch 100/100, loss: 0.12050830496730842\n",
      "Accuracy: 0.9575\n",
      "-- No pretraining model --\n",
      "Entraînement DNN\n",
      "Epoch 1/100, loss: 2.30485517476351\n",
      "Epoch 26/100, loss: 0.7507440343419189\n",
      "Epoch 51/100, loss: 0.41344015415354285\n",
      "Epoch 76/100, loss: 0.3069904459379737\n",
      "Epoch 100/100, loss: 0.24037598434101068\n",
      "Accuracy: 0.928\n",
      "Test du modèle avec les couches [784, 500, 500, 10]\n",
      "-- Pretraining model --\n",
      "Entraînement DBN avec 3 RBMs\n",
      "Entraînement RBM 1 / 3\n",
      "Epoch 1/100, erreur de reconstruction: 0.048752889509241226\n",
      "Epoch 26/100, erreur de reconstruction: 0.012789386054354313\n",
      "Epoch 51/100, erreur de reconstruction: 0.009470120656055552\n",
      "Epoch 76/100, erreur de reconstruction: 0.007983677586748731\n",
      "Epoch 100/100, erreur de reconstruction: 0.007129163986805216\n",
      "Entraînement RBM 2 / 3\n",
      "Epoch 1/100, erreur de reconstruction: 0.06968361656874666\n",
      "Epoch 26/100, erreur de reconstruction: 0.010094491646547767\n",
      "Epoch 51/100, erreur de reconstruction: 0.007204818318513277\n",
      "Epoch 76/100, erreur de reconstruction: 0.0061809750358604\n",
      "Epoch 100/100, erreur de reconstruction: 0.0056957546615440105\n",
      "Entraînement RBM 3 / 3\n",
      "Epoch 1/100, erreur de reconstruction: 0.09288068066675988\n",
      "Epoch 26/100, erreur de reconstruction: 0.06446598500158136\n",
      "Epoch 51/100, erreur de reconstruction: 0.06327471966516615\n",
      "Epoch 76/100, erreur de reconstruction: 0.0611019242963515\n",
      "Epoch 100/100, erreur de reconstruction: 0.060577810023898455\n",
      "Entraînement DNN\n",
      "Epoch 1/100, loss: 10.343047171947306\n",
      "Epoch 26/100, loss: 0.23775472192077862\n",
      "Epoch 51/100, loss: 0.16338970592354024\n",
      "Epoch 76/100, loss: 0.1271637851350984\n",
      "Epoch 100/100, loss: 0.10446135211669813\n",
      "Accuracy: 0.9621\n",
      "-- No pretraining model --\n",
      "Entraînement DNN\n",
      "Epoch 1/100, loss: 2.311895106467797\n",
      "Epoch 26/100, loss: 8.891375968101721\n",
      "Epoch 51/100, loss: 4.230479485695344\n",
      "Epoch 76/100, loss: 1.1770203589738242\n",
      "Epoch 100/100, loss: 0.4339579725129603\n",
      "Accuracy: 0.8969\n"
     ]
    },
    {
     "data": {
      "image/png": "[encoded data removed]",
      "text/plain": [
       "<Figure size 600x400 with 1 Axes>"
      ]
     },
     "metadata": {},
     "output_type": "display_data"
    }
   ],
   "source": [
    "test_number_neurons = [[784, 50, 50, 10], [784, 100, 100, 10], [784, 200, 200, 10], [784, 300, 300, 10], [784, 500, 500, 10]]\n",
    "error_rate_no_pretraining = []\n",
    "error_rate_pretraining = []\n",
    "for layer in test_number_neurons:\n",
    "    print(f\"Test du modèle avec les couches {layer}\")\n",
    "    print(\"-- Pretraining model --\")\n",
    "    DNN_pretraining = DNN(layer)\n",
    "    DNN_pretraining.pretrain_DNN(nb_epochs, lr, mini_batch_size, X_train, verbose = True, step=25)\n",
    "    DNN_pretraining.retropropagation(X_train, y_train, nb_epochs, lr, mini_batch_size, verbose=True, step=25)\n",
    "    error_rate_pretraining.append(DNN_pretraining.test_DNN(X_test, y_test))\n",
    "\n",
    "    print(\"-- No pretraining model --\")\n",
    "    DNN_NO_pretraining = DNN(layer)\n",
    "    DNN_NO_pretraining.retropropagation(X_train, y_train, nb_epochs, lr, mini_batch_size, verbose=True, step=25)\n",
    "    error_rate_no_pretraining.append(DNN_NO_pretraining.test_DNN(X_test, y_test))\n",
    "\n",
    "plt.figure(figsize=(6, 4))\n",
    "plt.plot([50, 100, 200, 300, 500], error_rate_pretraining, label=\"Pretraining\")\n",
    "plt.plot([50, 100, 200, 300, 500], error_rate_no_pretraining, label=\"No pretraining\")\n",
    "plt.xlabel(\"Nombre de neurones par couche cachée\")\n",
    "plt.ylabel(\"Taux d'erreur sur le test set en %\")\n",
    "plt.title(\"Taux d'erreur en fonction du nombre de neurones par couche cachée\")\n",
    "plt.legend()\n",
    "plt.show()"
   ]
  },
  {
   "cell_type": "markdown",
   "metadata": {},
   "source": [
    "best pour [784, 500, 500, 10] pour les 2"
   ]
  },
  {
   "cell_type": "code",
   "execution_count": null,
   "metadata": {},
   "outputs": [],
   "source": [
    "## Essayer de mélanger les données avant de les donner au modèle\n",
    "# from sklearn.utils import shuffle\n",
    "# X_train_shuffle, y_train_shuffle = shuffle(X_train, y_train)"
   ]
  },
  {
   "cell_type": "markdown",
   "metadata": {},
   "source": [
    "### Conclusion"
   ]
  },
  {
   "cell_type": "markdown",
   "metadata": {},
   "source": [
    "#### Tuning des hyperparamètres -> sélection finale"
   ]
  },
  {
   "cell_type": "code",
   "execution_count": 26,
   "metadata": {},
   "outputs": [
    {
     "name": "stdout",
     "output_type": "stream",
     "text": [
      "Entraînement DNN\n",
      "Epoch 1/100, loss: 17.55334536058313\n",
      "Epoch 26/100, loss: 17.878708334422903\n",
      "Epoch 51/100, loss: 17.70035555318153\n",
      "Epoch 76/100, loss: 18.01212358290761\n",
      "Epoch 100/100, loss: 18.349728979239366\n",
      "Accuracy: 0.0958\n"
     ]
    }
   ],
   "source": [
    "layer_sizes = [784, 500, 500, 10]\n",
    "mini_batch_size = 32\n",
    "lr = 0.1\n",
    "nb_epochs = 100\n",
    "\n",
    "DNN_best = DNN(layer_sizes)\n",
    "DNN_best.retropropagation(X_train, y_train, nb_epochs, lr, mini_batch_size, verbose=True, step=25)\n",
    "error_rate = DNN_best.test_DNN(X_test, y_test)"
   ]
  },
  {
   "cell_type": "code",
   "execution_count": 27,
   "metadata": {},
   "outputs": [
    {
     "name": "stdout",
     "output_type": "stream",
     "text": [
      "Accuracy: 0.09863333333333334\n",
      "Accuracy: 0.0958\n",
      "Best model results:\n",
      " Error rate for training set: 0.10\n",
      " Error rate for test set: 0.10\n"
     ]
    }
   ],
   "source": [
    "error_rate_best_train = DNN_best.test_DNN(X_train, y_train)\n",
    "error_rate_best_test = DNN_best.test_DNN(X_test, y_test)\n",
    "\n",
    "print(\"Best model results:\")\n",
    "print(f\" Error rate for training set: {error_rate_best_train:.2f}\")\n",
    "print(f\" Error rate for test set: {error_rate_best_test:.2f}\")"
   ]
  },
  {
   "cell_type": "markdown",
   "metadata": {},
   "source": [
    "#### Prediction sur 10 digits avec Untrained Model"
   ]
  },
  {
   "cell_type": "code",
   "execution_count": null,
   "metadata": {},
   "outputs": [],
   "source": [
    "X = X_test[0:10]\n",
    "for _, rbm in enumerate(DNN_best_train.RBM_layers[:-1]):\n",
    "    X = rbm.entree_sortie_RBM(X)\n",
    "predictions = np.argmax(DNN_best_train.calcul_softmax(X, DNN_best_train.RBM_layers[-1]), axis=1)"
   ]
  },
  {
   "cell_type": "code",
   "execution_count": 30,
   "metadata": {},
   "outputs": [
    {
     "data": {
      "image/png": "[encoded data removed]",
      "text/plain": [
       "<Figure size 1000x500 with 10 Axes>"
      ]
     },
     "metadata": {},
     "output_type": "display_data"
    }
   ],
   "source": [
    "plt.subplots(2, 5, figsize=(10, 5))\n",
    "for i in range(10):\n",
    "    plt.subplot(2, 5, i+1)\n",
    "    plt.imshow(X_test[i].reshape(28, 28), cmap='gray')\n",
    "    plt.title(f\"Prediction: {predictions[i]}\\n True label: {np.argmax(y_test[i])}\")\n",
    "    plt.axis('off')"
   ]
  },
  {
   "cell_type": "code",
   "execution_count": 31,
   "metadata": {},
   "outputs": [
    {
     "name": "stdout",
     "output_type": "stream",
     "text": [
      "Entraînement DBN avec 3 RBMs\n",
      "Entraînement RBM 1 / 3\n",
      "Epoch 1/100, erreur de reconstruction: 0.018542912442667286\n",
      "Epoch 26/100, erreur de reconstruction: 0.005980912566364284\n",
      "Epoch 51/100, erreur de reconstruction: 0.0051951964472163725\n",
      "Epoch 76/100, erreur de reconstruction: 0.00486392505504027\n",
      "Epoch 100/100, erreur de reconstruction: 0.0046964167867415444\n",
      "Entraînement RBM 2 / 3\n",
      "Epoch 1/100, erreur de reconstruction: 0.025789048539989274\n",
      "Epoch 26/100, erreur de reconstruction: 0.009108547175479537\n",
      "Epoch 51/100, erreur de reconstruction: 0.008511128329922258\n",
      "Epoch 76/100, erreur de reconstruction: 0.00828126387221462\n",
      "Epoch 100/100, erreur de reconstruction: 0.008082025474089996\n",
      "Entraînement RBM 3 / 3\n",
      "Epoch 1/100, erreur de reconstruction: 0.06108503642011201\n",
      "Epoch 26/100, erreur de reconstruction: 0.054251228963720324\n",
      "Epoch 51/100, erreur de reconstruction: 0.05379791411103432\n",
      "Epoch 76/100, erreur de reconstruction: 0.053311388279749475\n",
      "Epoch 100/100, erreur de reconstruction: 0.05329485367461718\n",
      "Entraînement DNN\n",
      "Epoch 1/100, loss: 1.9250040402793844\n",
      "Epoch 26/100, loss: 0.035457857407812716\n",
      "Epoch 51/100, loss: 0.011829218162169091\n",
      "Epoch 76/100, loss: 0.0056484823688083855\n",
      "Epoch 100/100, loss: 0.0034575739309786135\n",
      "Accuracy: 0.9766\n"
     ]
    }
   ],
   "source": [
    "layer_sizes = [784, 500, 500, 10]\n",
    "mini_batch_size = 32\n",
    "lr = 0.1\n",
    "nb_epochs = 100\n",
    "\n",
    "DNN_best_train = DNN(layer_sizes)\n",
    "DNN_best_train.pretrain_DNN(nb_epochs, lr, mini_batch_size, X_train, verbose = True, step=25)\n",
    "DNN_best_train.retropropagation(X_train, y_train, nb_epochs, lr, mini_batch_size, verbose=True, step=25)\n",
    "error_rate = DNN_best_train.test_DNN(X_test, y_test)"
   ]
  },
  {
   "cell_type": "code",
   "execution_count": 32,
   "metadata": {},
   "outputs": [
    {
     "name": "stdout",
     "output_type": "stream",
     "text": [
      "Accuracy: 0.9999166666666667\n",
      "Accuracy: 0.9766\n",
      "Best model results:\n",
      " Error rate for training set: 1.00\n",
      " Error rate for test set: 0.98\n"
     ]
    }
   ],
   "source": [
    "error_rate_best_train_train = DNN_best_train.test_DNN(X_train, y_train)\n",
    "error_rate_best_train_test = DNN_best_train.test_DNN(X_test, y_test)\n",
    "\n",
    "print(\"Best model results:\")\n",
    "print(f\" Error rate for training set: {error_rate_best_train_train:.2f}\")\n",
    "print(f\" Error rate for test set: {error_rate_best_train_test:.2f}\")"
   ]
  },
  {
   "cell_type": "markdown",
   "metadata": {},
   "source": [
    "#### Prediction sur 10 digits avec Trained Model"
   ]
  },
  {
   "cell_type": "code",
   "execution_count": 33,
   "metadata": {},
   "outputs": [],
   "source": [
    "X = X_test[0:10]\n",
    "for _, rbm in enumerate(DNN_best_train.RBM_layers[:-1]):\n",
    "    X = rbm.entree_sortie_RBM(X)\n",
    "predictions = np.argmax(DNN_best_train.calcul_softmax(X, DNN_best_train.RBM_layers[-1]), axis=1)"
   ]
  },
  {
   "cell_type": "code",
   "execution_count": 34,
   "metadata": {},
   "outputs": [
    {
     "data": {
      "image/png": "[encoded data removed]",
      "text/plain": [
       "<Figure size 1000x500 with 10 Axes>"
      ]
     },
     "metadata": {},
     "output_type": "display_data"
    }
   ],
   "source": [
    "plt.subplots(2, 5, figsize=(10, 5))\n",
    "for i in range(10):\n",
    "    plt.subplot(2, 5, i+1)\n",
    "    plt.imshow(X_test[i].reshape(28, 28), cmap='gray')\n",
    "    plt.title(f\"Prediction: {predictions[i]}\\n True label: {np.argmax(y_test[i])}\")\n",
    "    plt.axis('off')"
   ]
  },
  {
   "cell_type": "code",
   "execution_count": null,
   "metadata": {},
   "outputs": [],
   "source": []
  }
 ],
 "metadata": {
  "kernelspec": {
   "display_name": "datascience_2025",
   "language": "python",
   "name": "python3"
  },
  "language_info": {
   "codemirror_mode": {
    "name": "ipython",
    "version": 3
   },
   "file_extension": ".py",
   "mimetype": "text/x-python",
   "name": "python",
   "nbconvert_exporter": "python",
   "pygments_lexer": "ipython3",
   "version": "3.9.21"
  }
 },
 "nbformat": 4,
 "nbformat_minor": 2
}
